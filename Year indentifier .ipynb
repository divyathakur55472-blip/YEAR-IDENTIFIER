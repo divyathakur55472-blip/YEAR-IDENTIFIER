{
 "cells": [
  {
   "cell_type": "code",
   "execution_count": 1,
   "id": "34b62390-3b58-4c3e-8b05-a759596f4fc4",
   "metadata": {},
   "outputs": [],
   "source": [
    "#year identifyer\n",
    "#enter the year you want to check\n",
    "#condtion on year must be 4 digit\n",
    "#condition for leap year divisble by 4\n",
    "#condition for century year divisible by 400 or last 2 digit is 00\n",
    "#print the vote of thanks for visiting"
   ]
  },
  {
   "cell_type": "code",
   "execution_count": null,
   "id": "32358c53-0e21-4547-b7d7-dcb9d6ecfc37",
   "metadata": {},
   "outputs": [
    {
     "name": "stdout",
     "output_type": "stream",
     "text": [
      "Welcome to the YEAR IDENTIFIER \n"
     ]
    }
   ],
   "source": [
    "print(\"Welcome to the YEAR IDENTIFIER \")\n",
    "while True:\n",
    "    year_input=input(\"Enter the year you want to check\")\n",
    "    if len(year_input)==4 and year_input.isdigit():\n",
    "        year=int(year_input)\n",
    "        if (year%100!=0 and year%4==0) or (year%400==0):\n",
    "            print(f\"This year ({year}) is Leap year\")\n",
    "            if year%100==0:\n",
    "                print(f\"This year ({year}) is also Centry Year\")\n",
    "        else:\n",
    "            if year%100==0:\n",
    "                print(f\"This year ({year}) is Century year not leap year\")\n",
    "            else:\n",
    "                print(f\"This year ({year}) is an Ordinary year but (\"\"YOU ARE NOT ORDINARY\"\")\")\n",
    "    else:\n",
    "        print(\"Enter the valid 4 digit year\")\n",
    "    again=input(\"1: to check more years else 0:\")\n",
    "    if again!=\"1\":\n",
    "        print(\"Choose the Valid\")\n",
    "        break\n",
    "\n",
    "print(\"Thanks for using\")        "
   ]
  },
  {
   "cell_type": "code",
   "execution_count": null,
   "id": "b76e9408-7b38-4744-ab7f-6dbfc58236a4",
   "metadata": {},
   "outputs": [],
   "source": []
  }
 ],
 "metadata": {
  "kernelspec": {
   "display_name": "Python 3 (ipykernel)",
   "language": "python",
   "name": "python3"
  },
  "language_info": {
   "codemirror_mode": {
    "name": "ipython",
    "version": 3
   },
   "file_extension": ".py",
   "mimetype": "text/x-python",
   "name": "python",
   "nbconvert_exporter": "python",
   "pygments_lexer": "ipython3",
   "version": "3.13.5"
  }
 },
 "nbformat": 4,
 "nbformat_minor": 5
}
